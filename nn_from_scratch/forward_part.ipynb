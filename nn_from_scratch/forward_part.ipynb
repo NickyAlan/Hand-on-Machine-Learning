{
 "cells": [
  {
   "cell_type": "code",
   "execution_count": 358,
   "metadata": {},
   "outputs": [],
   "source": [
    "import matplotlib.pyplot as plt\n",
    "import numpy as np\n",
    "import time"
   ]
  },
  {
   "cell_type": "code",
   "execution_count": 328,
   "metadata": {},
   "outputs": [],
   "source": [
    "weight = 0.1\n",
    "\n",
    "def nn(input, weight) :\n",
    "    prediction = input*weight\n",
    "    return prediction"
   ]
  },
  {
   "cell_type": "code",
   "execution_count": 329,
   "metadata": {},
   "outputs": [
    {
     "name": "stdout",
     "output_type": "stream",
     "text": [
      "prediction : 0.8500\n"
     ]
    }
   ],
   "source": [
    "data = [8.5, 9.5, 10, 9]\n",
    "input = data[0]\n",
    "pred = nn(input, weight)\n",
    "print(f'prediction : {pred:.4f}')"
   ]
  },
  {
   "cell_type": "markdown",
   "metadata": {},
   "source": [
    "### With multiple input"
   ]
  },
  {
   "cell_type": "markdown",
   "metadata": {},
   "source": [
    "<img src=\"./images/1.png\" />"
   ]
  },
  {
   "cell_type": "code",
   "execution_count": 330,
   "metadata": {},
   "outputs": [],
   "source": [
    "def dot(a,b) :\n",
    "    assert(len(a) == len(b)) ,'input must same shape as weights'\n",
    "    output = 0\n",
    "\n",
    "    for i in range(len(a)) :\n",
    "        output += (a[i] * b[i])\n",
    "\n",
    "    return output "
   ]
  },
  {
   "cell_type": "code",
   "execution_count": 331,
   "metadata": {},
   "outputs": [],
   "source": [
    "weights = [0.1, 0.2, 0]\n",
    "\n",
    "def nn(input, weights) :\n",
    "    predictions = dot(input, weights)\n",
    "    return predictions"
   ]
  },
  {
   "cell_type": "code",
   "execution_count": 332,
   "metadata": {},
   "outputs": [
    {
     "name": "stdout",
     "output_type": "stream",
     "text": [
      "take 0.0333 ms\n",
      "prediction : 0.9800\n"
     ]
    }
   ],
   "source": [
    "# feature\n",
    "f1 = [8.5, 9.5, 9.9, 9.0]\n",
    "f2 = [0.65, 0.8, 0.8, 0.9]\n",
    "f3 = [1.2, 1.3, 0.5, 1.0]\n",
    "\n",
    "input = [f1[0], f2[0], f3[0]]\n",
    "\n",
    "s1 = time.perf_counter()\n",
    "prediction = nn(input, weights)\n",
    "s2 = time.perf_counter()\n",
    "print(f'take {((s2-s1)*10**3):.4f} ms')\n",
    "\n",
    "print(f'prediction : {prediction:.4f}')"
   ]
  },
  {
   "cell_type": "markdown",
   "metadata": {},
   "source": [
    "> faster and easier with numpy"
   ]
  },
  {
   "cell_type": "code",
   "execution_count": 333,
   "metadata": {},
   "outputs": [],
   "source": [
    "weights = np.array(weights)\n",
    "\n",
    "def nn(input, weights) :\n",
    "    prediction = np.dot(input, weights) # just this \n",
    "    return prediction "
   ]
  },
  {
   "cell_type": "code",
   "execution_count": 334,
   "metadata": {},
   "outputs": [
    {
     "name": "stdout",
     "output_type": "stream",
     "text": [
      "take 0.4164 ms\n",
      "prediction : 0.9800\n"
     ]
    }
   ],
   "source": [
    "input = np.array([f1[0], f2[0], f3[0]])\n",
    "\n",
    "s1 = time.perf_counter()\n",
    "prediction = nn(input, weights)\n",
    "s2 = time.perf_counter()\n",
    "print(f'take {((s2-s1)*10**3):.4f} ms')\n",
    "\n",
    "print(f'prediction : {prediction:.4f}')"
   ]
  },
  {
   "cell_type": "markdown",
   "metadata": {},
   "source": [
    "> faster ? "
   ]
  },
  {
   "cell_type": "markdown",
   "metadata": {},
   "source": [
    "### Predicting with multiple inputs and outputs | with hidden layers"
   ]
  },
  {
   "cell_type": "markdown",
   "metadata": {},
   "source": [
    "<img src=\"./images/2.png\" />"
   ]
  },
  {
   "cell_type": "code",
   "execution_count": 341,
   "metadata": {},
   "outputs": [],
   "source": [
    "hidden_l = np.random.randn(3,3)\n",
    "output_l = np.random.randn(3,3)\n",
    "\n",
    "layers = [hidden_l,output_l]\n",
    "\n",
    "def nn(input, layers) :\n",
    "    input = input.reshape(-1,1).T\n",
    "    hidden = np.dot(input,layers[0])  # 1,3 dot 3,3 = 1,3\n",
    "    relu = np.maximum(0, hidden)\n",
    "    \n",
    "    output = np.dot(relu, layers[1]) # 1,3 dot 3,3 = 1,3\n",
    "    prediction = np.abs(output) # just want morethan 0\n",
    "    \n",
    "    return prediction"
   ]
  },
  {
   "cell_type": "code",
   "execution_count": 343,
   "metadata": {},
   "outputs": [
    {
     "name": "stdout",
     "output_type": "stream",
     "text": [
      "predictions : [5.41940128 5.55846979 1.07106431]\n"
     ]
    }
   ],
   "source": [
    "prediction = nn(input, layers)\n",
    "print(f'predictions : {prediction[0]}')"
   ]
  },
  {
   "cell_type": "markdown",
   "metadata": {},
   "source": [
    "## With Gradeint descent"
   ]
  },
  {
   "cell_type": "code",
   "execution_count": 385,
   "metadata": {},
   "outputs": [
    {
     "name": "stdout",
     "output_type": "stream",
     "text": [
      "epoch : 100 Error = 0.250500 / Prediction = 0.299500\n",
      "epoch : 200 Error = 0.202950 / Prediction = 0.349500\n",
      "epoch : 300 Error = 0.160400 / Prediction = 0.399500\n",
      "epoch : 400 Error = 0.122850 / Prediction = 0.449500\n",
      "epoch : 500 Error = 0.090300 / Prediction = 0.499500\n",
      "epoch : 600 Error = 0.062750 / Prediction = 0.549500\n",
      "epoch : 700 Error = 0.040200 / Prediction = 0.599500\n",
      "epoch : 800 Error = 0.022650 / Prediction = 0.649500\n",
      "epoch : 900 Error = 0.010100 / Prediction = 0.699500\n",
      "epoch : 1000 Error = 0.002550 / Prediction = 0.749500\n",
      "epoch : 1100 Error = 0.000000 / Prediction = 0.799500\n",
      "epoch : 1200 Error = 0.000000 / Prediction = 0.800500\n"
     ]
    }
   ],
   "source": [
    "weight = 0.5\n",
    "input = 0.5\n",
    "y_true = 0.8\n",
    "lr = 0.001 # learning rate = a step to go per update\n",
    "\n",
    "errors = []\n",
    "preds = []\n",
    "epoch = 1200\n",
    "\n",
    "for iteration in range(epoch) :\n",
    "    prediction = input * weight\n",
    "    error = np.mean(np.square(y_true-prediction)) # just mse loss\n",
    "    \n",
    "    if (iteration+1) %100 == 0 :\n",
    "        print(f'epoch : {iteration+1} Error = {error:.6f} / Prediction = {prediction:.6f}')\n",
    "\n",
    "    errors.append(error)\n",
    "    preds.append(prediction)\n",
    "    \n",
    "    # just try to up pred value\n",
    "    up_prediction = input * (weight + lr)\n",
    "    up_error = np.mean(np.square(y_true-up_prediction))\n",
    "\n",
    "    # and try to down and see what is better\n",
    "    down_prediction = input * (weight - lr)\n",
    "    down_error = np.mean(np.square(y_true-down_prediction))\n",
    "\n",
    "    # if down error is better -> then reduce weight \n",
    "    if down_error < up_error :\n",
    "        weight -= lr\n",
    "    else :\n",
    "        weight += lr"
   ]
  },
  {
   "cell_type": "code",
   "execution_count": 386,
   "metadata": {},
   "outputs": [
    {
     "data": {
      "image/png": "[encoded data removed]",
      "text/plain": [
       "<Figure size 720x432 with 1 Axes>"
      ]
     },
     "metadata": {
      "needs_background": "light"
     },
     "output_type": "display_data"
    }
   ],
   "source": [
    "epochs = [_ for _ in range(epoch)]\n",
    "\n",
    "plt.figure(figsize=(10,6))\n",
    "plt.plot(epochs,errors, label='loss')\n",
    "plt.plot(epochs, preds, label='prediction')\n",
    "plt.axhline(0.8, linestyle='dotted',color='k',label='True')\n",
    "plt.legend();"
   ]
  },
  {
   "cell_type": "markdown",
   "metadata": {},
   "source": [
    "> but it inefficiency becuase you compute 2 way of loss(up and down) --> make it slower."
   ]
  },
  {
   "cell_type": "code",
   "execution_count": 421,
   "metadata": {},
   "outputs": [
    {
     "name": "stdout",
     "output_type": "stream",
     "text": [
      "epoch : 3 Error = 0.202500 / Prediction = 0.350000\n",
      "epoch : 6 Error = 0.036041 / Prediction = 0.610156\n",
      "epoch : 9 Error = 0.006414 / Prediction = 0.719910\n",
      "epoch : 12 Error = 0.001142 / Prediction = 0.766212\n",
      "epoch : 15 Error = 0.000203 / Prediction = 0.785746\n",
      "epoch : 18 Error = 0.000036 / Prediction = 0.793986\n",
      "epoch : 21 Error = 0.000006 / Prediction = 0.797463\n",
      "epoch : 24 Error = 0.000001 / Prediction = 0.798930\n",
      "epoch : 25 Error = 0.000001 / Prediction = 0.799197\n"
     ]
    }
   ],
   "source": [
    "weight, y_true, input = (0.0, 0.8, 0.5)\n",
    "\n",
    "epoch = 25\n",
    "errors = []\n",
    "preds = []\n",
    "for iteration in range(epoch) :\n",
    "    pred = input * weight\n",
    "    error = np.mean(np.square(y_true - pred)) # loss\n",
    "\n",
    "    delta = pred - y_true # how pred far from y_true\n",
    "    weight -= (delta * input)\n",
    "\n",
    "    errors.append(error)\n",
    "    preds.append(pred)\n",
    "\n",
    "    if (iteration+1)%3 == 0 or (iteration+1) == epoch:\n",
    "        print(f'epoch : {iteration+1} Error = {error:.6f} / Prediction = {pred:.6f}')"
   ]
  },
  {
   "cell_type": "code",
   "execution_count": 422,
   "metadata": {},
   "outputs": [
    {
     "data": {
      "image/png": "[encoded data removed]",
      "text/plain": [
       "<Figure size 720x432 with 1 Axes>"
      ]
     },
     "metadata": {
      "needs_background": "light"
     },
     "output_type": "display_data"
    }
   ],
   "source": [
    "epochs = [_ for _ in range(epoch)]\n",
    "\n",
    "plt.figure(figsize=(10,6))\n",
    "plt.plot(epochs,errors, label='loss')\n",
    "plt.plot(epochs, preds, label='prediction')\n",
    "plt.axhline(0.8, linestyle='dotted',color='k',label='True')\n",
    "plt.legend();"
   ]
  },
  {
   "cell_type": "markdown",
   "metadata": {},
   "source": [
    "> very efficeint"
   ]
  }
 ],
 "metadata": {
  "kernelspec": {
   "display_name": "Python 3.10.0 64-bit",
   "language": "python",
   "name": "python3"
  },
  "language_info": {
   "codemirror_mode": {
    "name": "ipython",
    "version": 3
   },
   "file_extension": ".py",
   "mimetype": "text/x-python",
   "name": "python",
   "nbconvert_exporter": "python",
   "pygments_lexer": "ipython3",
   "version": "3.10.0"
  },
  "orig_nbformat": 4,
  "vscode": {
   "interpreter": {
    "hash": "63e79917a05e390872358bfb73c58bc903ada01d2d04077091749088207d82cf"
   }
  }
 },
 "nbformat": 4,
 "nbformat_minor": 2
}
