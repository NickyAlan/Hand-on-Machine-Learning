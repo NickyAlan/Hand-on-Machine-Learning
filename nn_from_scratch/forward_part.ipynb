{
 "cells": [
  {
   "cell_type": "code",
   "execution_count": 2,
   "metadata": {},
   "outputs": [],
   "source": [
    "import matplotlib.pyplot as plt\n",
    "import numpy as np\n",
    "import time"
   ]
  },
  {
   "cell_type": "code",
   "execution_count": 3,
   "metadata": {},
   "outputs": [],
   "source": [
    "weight = 0.1\n",
    "\n",
    "def nn(input, weight) :\n",
    "    prediction = input*weight\n",
    "    return prediction"
   ]
  },
  {
   "cell_type": "code",
   "execution_count": 4,
   "metadata": {},
   "outputs": [
    {
     "name": "stdout",
     "output_type": "stream",
     "text": [
      "prediction : 0.8500\n"
     ]
    }
   ],
   "source": [
    "data = [8.5, 9.5, 10, 9]\n",
    "input = data[0]\n",
    "pred = nn(input, weight)\n",
    "print(f'prediction : {pred:.4f}')"
   ]
  },
  {
   "cell_type": "markdown",
   "metadata": {},
   "source": [
    "### With multiple input"
   ]
  },
  {
   "cell_type": "markdown",
   "metadata": {},
   "source": [
    "<img src=\"./images/1.png\" />"
   ]
  },
  {
   "cell_type": "code",
   "execution_count": 5,
   "metadata": {},
   "outputs": [],
   "source": [
    "def dot(a,b) :\n",
    "    assert(len(a) == len(b)) ,'input must same shape as weights'\n",
    "    output = 0\n",
    "\n",
    "    for i in range(len(a)) :\n",
    "        output += (a[i] * b[i])\n",
    "\n",
    "    return output "
   ]
  },
  {
   "cell_type": "code",
   "execution_count": 6,
   "metadata": {},
   "outputs": [],
   "source": [
    "weights = [0.1, 0.2, 0]\n",
    "\n",
    "def nn(input, weights) :\n",
    "    predictions = dot(input, weights)\n",
    "    return predictions"
   ]
  },
  {
   "cell_type": "code",
   "execution_count": 7,
   "metadata": {},
   "outputs": [
    {
     "name": "stdout",
     "output_type": "stream",
     "text": [
      "take 0.0325 ms\n",
      "prediction : 0.9800\n"
     ]
    }
   ],
   "source": [
    "# feature\n",
    "f1 = [8.5, 9.5, 9.9, 9.0]\n",
    "f2 = [0.65, 0.8, 0.8, 0.9]\n",
    "f3 = [1.2, 1.3, 0.5, 1.0]\n",
    "\n",
    "input = [f1[0], f2[0], f3[0]]\n",
    "\n",
    "s1 = time.perf_counter()\n",
    "prediction = nn(input, weights)\n",
    "s2 = time.perf_counter()\n",
    "print(f'take {((s2-s1)*10**3):.4f} ms')\n",
    "\n",
    "print(f'prediction : {prediction:.4f}')"
   ]
  },
  {
   "cell_type": "markdown",
   "metadata": {},
   "source": [
    "> faster and easier with numpy"
   ]
  },
  {
   "cell_type": "code",
   "execution_count": 8,
   "metadata": {},
   "outputs": [],
   "source": [
    "weights = np.array(weights)\n",
    "\n",
    "def nn(input, weights) :\n",
    "    prediction = np.dot(input, weights) # just this \n",
    "    return prediction "
   ]
  },
  {
   "cell_type": "code",
   "execution_count": 9,
   "metadata": {},
   "outputs": [
    {
     "name": "stdout",
     "output_type": "stream",
     "text": [
      "take 0.6633 ms\n",
      "prediction : 0.9800\n"
     ]
    }
   ],
   "source": [
    "input = np.array([f1[0], f2[0], f3[0]])\n",
    "\n",
    "s1 = time.perf_counter()\n",
    "prediction = nn(input, weights)\n",
    "s2 = time.perf_counter()\n",
    "print(f'take {((s2-s1)*10**3):.4f} ms')\n",
    "\n",
    "print(f'prediction : {prediction:.4f}')"
   ]
  },
  {
   "cell_type": "markdown",
   "metadata": {},
   "source": [
    "> faster ? "
   ]
  },
  {
   "cell_type": "markdown",
   "metadata": {},
   "source": [
    "### Predicting with multiple inputs and outputs | with hidden layers"
   ]
  },
  {
   "cell_type": "markdown",
   "metadata": {},
   "source": [
    "<img src=\"./images/2.png\" />"
   ]
  },
  {
   "cell_type": "code",
   "execution_count": 10,
   "metadata": {},
   "outputs": [],
   "source": [
    "hidden_l = np.random.randn(3,3)\n",
    "output_l = np.random.randn(3,3)\n",
    "\n",
    "layers = [hidden_l,output_l]\n",
    "\n",
    "def nn(input, layers) :\n",
    "    input = input.reshape(-1,1).T\n",
    "    hidden = np.dot(input,layers[0])  # 1,3 dot 3,3 = 1,3\n",
    "    relu = np.maximum(0, hidden)\n",
    "    \n",
    "    output = np.dot(relu, layers[1]) # 1,3 dot 3,3 = 1,3\n",
    "    prediction = np.abs(output) # just want morethan 0\n",
    "    \n",
    "    return prediction"
   ]
  },
  {
   "cell_type": "code",
   "execution_count": 11,
   "metadata": {},
   "outputs": [
    {
     "name": "stdout",
     "output_type": "stream",
     "text": [
      "predictions : [15.55566093  1.43035195  5.78088567]\n"
     ]
    }
   ],
   "source": [
    "prediction = nn(input, layers)\n",
    "print(f'predictions : {prediction[0]}')"
   ]
  },
  {
   "cell_type": "markdown",
   "metadata": {},
   "source": [
    "## With Gradeint descent"
   ]
  },
  {
   "cell_type": "code",
   "execution_count": 12,
   "metadata": {},
   "outputs": [
    {
     "name": "stdout",
     "output_type": "stream",
     "text": [
      "epoch : 100 Error = 0.250500 / Prediction = 0.299500\n",
      "epoch : 200 Error = 0.202950 / Prediction = 0.349500\n",
      "epoch : 300 Error = 0.160400 / Prediction = 0.399500\n",
      "epoch : 400 Error = 0.122850 / Prediction = 0.449500\n",
      "epoch : 500 Error = 0.090300 / Prediction = 0.499500\n",
      "epoch : 600 Error = 0.062750 / Prediction = 0.549500\n",
      "epoch : 700 Error = 0.040200 / Prediction = 0.599500\n",
      "epoch : 800 Error = 0.022650 / Prediction = 0.649500\n",
      "epoch : 900 Error = 0.010100 / Prediction = 0.699500\n",
      "epoch : 1000 Error = 0.002550 / Prediction = 0.749500\n",
      "epoch : 1100 Error = 0.000000 / Prediction = 0.799500\n",
      "epoch : 1200 Error = 0.000000 / Prediction = 0.800500\n"
     ]
    }
   ],
   "source": [
    "weight = 0.5\n",
    "input = 0.5\n",
    "y_true = 0.8\n",
    "lr = 0.001 # learning rate = a step to go per update\n",
    "\n",
    "errors = []\n",
    "preds = []\n",
    "epoch = 1200\n",
    "\n",
    "for iteration in range(epoch) :\n",
    "    prediction = input * weight\n",
    "    error = np.mean(np.square(y_true-prediction)) # just mse loss\n",
    "    \n",
    "    if (iteration+1) %100 == 0 :\n",
    "        print(f'epoch : {iteration+1} Error = {error:.6f} / Prediction = {prediction:.6f}')\n",
    "\n",
    "    errors.append(error)\n",
    "    preds.append(prediction)\n",
    "    \n",
    "    # just try to up pred value\n",
    "    up_prediction = input * (weight + lr)\n",
    "    up_error = np.mean(np.square(y_true-up_prediction))\n",
    "\n",
    "    # and try to down and see what is better\n",
    "    down_prediction = input * (weight - lr)\n",
    "    down_error = np.mean(np.square(y_true-down_prediction))\n",
    "\n",
    "    # if down error is better -> then reduce weight \n",
    "    if down_error < up_error :\n",
    "        weight -= lr\n",
    "    else :\n",
    "        weight += lr"
   ]
  },
  {
   "cell_type": "code",
   "execution_count": 13,
   "metadata": {},
   "outputs": [
    {
     "data": {
      "image/png": "[encoded data removed]",
      "text/plain": [
       "<Figure size 720x432 with 1 Axes>"
      ]
     },
     "metadata": {
      "needs_background": "light"
     },
     "output_type": "display_data"
    }
   ],
   "source": [
    "epochs = [_ for _ in range(epoch)]\n",
    "\n",
    "plt.figure(figsize=(10,6))\n",
    "plt.plot(epochs,errors, label='loss')\n",
    "plt.plot(epochs, preds, label='prediction')\n",
    "plt.axhline(0.8, linestyle='dotted',color='k',label='True')\n",
    "plt.legend();"
   ]
  },
  {
   "cell_type": "markdown",
   "metadata": {},
   "source": [
    "> but it inefficiency becuase you compute 2 way of loss(up and down) --> make it slower."
   ]
  },
  {
   "cell_type": "markdown",
   "metadata": {},
   "source": [
    "<img src=\"https://vedexcel.com/wp-content/uploads/2020/12/MSE_Python.gif\" width=300px/>"
   ]
  },
  {
   "cell_type": "code",
   "execution_count": 102,
   "metadata": {},
   "outputs": [
    {
     "name": "stdout",
     "output_type": "stream",
     "text": [
      "epoch : 1 Error = 0.640000 / Prediction = 0.000000\n",
      "epoch : 5 Error = 0.000002 / Prediction = 0.798720\n",
      "epoch : 10 Error = 0.000000 / Prediction = 0.800000\n",
      ">> loss : 0.000000 / Predcition : 0.800000\n"
     ]
    }
   ],
   "source": [
    "weight, y_true, input = (0.0, 0.8, 0.5)\n",
    "lr = 0.8\n",
    "\n",
    "epoch = 10\n",
    "errors = []\n",
    "preds = []\n",
    "for iteration in range(epoch) :\n",
    "    '''\n",
    "    diff_mse to find the slope then go to negative way (to minimum point) is called Gradient\n",
    "    '''\n",
    "    y_pred = input * weight\n",
    "    error = np.mean(np.square(y_pred- y_true)) # loss  \n",
    "    dw = (2/1)*np.sum(y_pred - y_true) # 1 is len of input \n",
    "    weight = weight - (lr*dw) # go to negative slope\n",
    "\n",
    "    errors.append(error)\n",
    "    preds.append(y_pred)\n",
    "\n",
    "    if (iteration+1) == 1 or (iteration+1)%5 == 0 or (iteration+1) == epoch:\n",
    "        print(f'epoch : {iteration+1} Error = {error:.6f} / Prediction = {y_pred:.6f}')\n",
    "print(f'>> loss : {np.mean(error):.6f} / Predcition : {preds[-1]:.6f}')"
   ]
  },
  {
   "cell_type": "code",
   "execution_count": 103,
   "metadata": {},
   "outputs": [
    {
     "data": {
      "image/png": "[encoded data removed]",
      "text/plain": [
       "<Figure size 720x432 with 1 Axes>"
      ]
     },
     "metadata": {
      "needs_background": "light"
     },
     "output_type": "display_data"
    }
   ],
   "source": [
    "epochs = [_ for _ in range(epoch)]\n",
    "\n",
    "plt.figure(figsize=(10,6))\n",
    "plt.plot(epochs,errors, label='loss')\n",
    "plt.plot(epochs, preds, label='prediction')\n",
    "plt.title(f'Predicts : {preds[-1]:.3f} total_epoch={epoch} / lr={lr}')\n",
    "plt.axhline(0.8, linestyle='dotted',color='k',label='True')\n",
    "plt.legend();"
   ]
  },
  {
   "cell_type": "markdown",
   "metadata": {},
   "source": [
    "> very efficeint : if you select the right learning rate will converging faster"
   ]
  }
 ],
 "metadata": {
  "kernelspec": {
   "display_name": "Python 3.10.0 64-bit",
   "language": "python",
   "name": "python3"
  },
  "language_info": {
   "codemirror_mode": {
    "name": "ipython",
    "version": 3
   },
   "file_extension": ".py",
   "mimetype": "text/x-python",
   "name": "python",
   "nbconvert_exporter": "python",
   "pygments_lexer": "ipython3",
   "version": "3.10.0"
  },
  "orig_nbformat": 4,
  "vscode": {
   "interpreter": {
    "hash": "63e79917a05e390872358bfb73c58bc903ada01d2d04077091749088207d82cf"
   }
  }
 },
 "nbformat": 4,
 "nbformat_minor": 2
}
