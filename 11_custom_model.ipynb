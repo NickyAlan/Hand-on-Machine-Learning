{
 "cells": [
  {
   "cell_type": "markdown",
   "metadata": {},
   "source": [
    "# Custom Models and Training"
   ]
  },
  {
   "cell_type": "markdown",
   "metadata": {},
   "source": [
    "resorce : https://github.com/ageron/handson-ml2/blob/master/12_custom_models_and_training_with_tensorflow.ipynb"
   ]
  },
  {
   "cell_type": "markdown",
   "metadata": {},
   "source": [
    "time to dive deeper into Tensorflow and take a look at its lower-level Python API, this will useful when you need extra control to write custom loss function, layers, models ...\n",
    "\n",
    "when you create a tensor from a\n",
    "NumPy array, make sure to set dtype=tf.float32 (enough for nn and faster because use less RAM)"
   ]
  },
  {
   "cell_type": "code",
   "execution_count": 1,
   "metadata": {},
   "outputs": [],
   "source": [
    "import tensorflow as tf\n",
    "from tensorflow import keras\n",
    "import matplotlib.pyplot as plt\n",
    "import numpy as np"
   ]
  },
  {
   "cell_type": "markdown",
   "metadata": {},
   "source": [
    "## Customizing Models and Training Algorithms"
   ]
  },
  {
   "cell_type": "markdown",
   "metadata": {},
   "source": [
    "### Loss Functions\n",
    "if you dataset is have out lier (very noisy) -> try to use the Huber loss (is available in keras.losses.Huber but pretend its not)"
   ]
  },
  {
   "cell_type": "markdown",
   "metadata": {},
   "source": [
    "<img src=\"huber.png\"/>"
   ]
  },
  {
   "cell_type": "code",
   "execution_count": 2,
   "metadata": {},
   "outputs": [],
   "source": [
    "def huber_loss(y_true, y_pred, delta = 1) :\n",
    "    '''\n",
    "    implement huber loss (set default delta = 1) \n",
    "    '''\n",
    "    error = y_true - y_pred\n",
    "    is_small = tf.abs(error) < delta\n",
    "    sqr_loss = tf.square(error) / 2 # is small\n",
    "    linear_loss = delta * tf.abs(error) - 0.5 * (delta**2) # is not\n",
    "    return tf.where(is_small, sqr_loss, linear_loss)"
   ]
  },
  {
   "cell_type": "markdown",
   "metadata": {},
   "source": [
    "> tf.where return the elements where condition is True in bool_array (multiplexing x and y)."
   ]
  },
  {
   "cell_type": "code",
   "execution_count": 3,
   "metadata": {},
   "outputs": [],
   "source": [
    "from sklearn.datasets import fetch_california_housing\n",
    "from sklearn.model_selection import train_test_split\n",
    "from sklearn.preprocessing import StandardScaler\n",
    "\n",
    "housing_data = fetch_california_housing()\n",
    "X_train_full, X_test, y_train_full, y_test = train_test_split(\n",
    "    housing_data.data, housing_data.target.reshape(-1,1), random_state=42)\n",
    "\n",
    "X_train, X_valid, y_train, y_valid = train_test_split(\n",
    "    X_train_full, y_train_full, random_state=42)\n",
    "\n",
    "scaler = StandardScaler()\n",
    "X_train_scaled = scaler.fit_transform(X_train)\n",
    "X_valid_scaled = scaler.transform(X_valid)\n",
    "X_test_scaled = scaler.transform(X_test)"
   ]
  },
  {
   "cell_type": "code",
   "execution_count": 4,
   "metadata": {},
   "outputs": [
    {
     "data": {
      "text/plain": [
       "((11610, 8), (3870, 8), (11610, 1), (3870, 1))"
      ]
     },
     "execution_count": 4,
     "metadata": {},
     "output_type": "execute_result"
    }
   ],
   "source": [
    "X_train_scaled.shape, X_valid_scaled.shape, y_train.shape, y_valid.shape"
   ]
  },
  {
   "cell_type": "code",
   "execution_count": 5,
   "metadata": {},
   "outputs": [
    {
     "data": {
      "image/png": "[encoded data removed]",
      "text/plain": [
       "<Figure size 576x288 with 1 Axes>"
      ]
     },
     "metadata": {
      "needs_background": "light"
     },
     "output_type": "display_data"
    }
   ],
   "source": [
    "plt.figure(figsize=(8, 4))\n",
    "z = np.linspace(-4, 4, 200) # dummy data\n",
    "plt.plot(z, huber_loss(0, z, delta=1), 'b-', label='huber($z$)')\n",
    "plt.plot(z, (z**2)/2, 'b:', label=r'$\\frac{1}{2}z^2$')\n",
    "plt.gca().axhline(y=0, color='k') # gca ; get current axis\n",
    "plt.gca().axvline(x=0, color='k')\n",
    "plt.axis([-4,4,0,4])\n",
    "plt.grid(True)\n",
    "plt.xlabel('$z$')\n",
    "plt.legend(fontsize=12)\n",
    "plt.title('Huber loss', fontsize=14);"
   ]
  },
  {
   "cell_type": "markdown",
   "metadata": {},
   "source": [
    "Let's use custom loss to train"
   ]
  },
  {
   "cell_type": "code",
   "execution_count": 6,
   "metadata": {},
   "outputs": [],
   "source": [
    "# for parameter training\n",
    "def create_huber(delta) :\n",
    "    def huber_loss(y_true, y_pred) :\n",
    "        '''\n",
    "        for huber loss training \n",
    "        '''\n",
    "        error = y_true - y_pred\n",
    "        is_small = tf.abs(error) < delta\n",
    "        sqr_loss = tf.square(error) / 2 # is small\n",
    "        linear_loss = delta * tf.abs(error) - 0.5 * (delta**2) # is not\n",
    "        return tf.where(is_small, sqr_loss, linear_loss)\n",
    "    return huber_loss"
   ]
  },
  {
   "cell_type": "code",
   "execution_count": 7,
   "metadata": {},
   "outputs": [
    {
     "name": "stdout",
     "output_type": "stream",
     "text": [
      "Epoch 1/5\n",
      "363/363 [==============================] - 3s 4ms/step - loss: 0.6928 - mae: 0.8856 - mse: 1.5346 - val_loss: 0.2456 - val_mae: 0.5092 - val_mse: 0.5950\n",
      "Epoch 2/5\n",
      "363/363 [==============================] - 1s 3ms/step - loss: 0.2374 - mae: 0.5121 - mse: 0.4845 - val_loss: 0.2392 - val_mae: 0.5002 - val_mse: 0.6714\n",
      "Epoch 3/5\n",
      "363/363 [==============================] - 1s 4ms/step - loss: 0.2277 - mae: 0.5010 - mse: 0.4649 - val_loss: 0.2093 - val_mae: 0.4790 - val_mse: 0.4245\n",
      "Epoch 4/5\n",
      "363/363 [==============================] - 1s 3ms/step - loss: 0.2211 - mae: 0.4930 - mse: 0.4503 - val_loss: 0.2427 - val_mae: 0.4899 - val_mse: 1.1041\n",
      "Epoch 5/5\n",
      "363/363 [==============================] - 1s 3ms/step - loss: 0.2172 - mae: 0.4867 - mse: 0.4432 - val_loss: 0.2122 - val_mae: 0.4754 - val_mse: 0.4858\n"
     ]
    },
    {
     "data": {
      "text/plain": [
       "<keras.callbacks.History at 0x20a66a9cdc0>"
      ]
     },
     "execution_count": 7,
     "metadata": {},
     "output_type": "execute_result"
    }
   ],
   "source": [
    "model = keras.models.Sequential([ \n",
    "    keras.layers.Input(shape=(8,)),\n",
    "    keras.layers.Dense(30, activation='selu', kernel_initializer='lecun_normal'),\n",
    "    keras.layers.Dense(1)\n",
    "])\n",
    "\n",
    "model.compile(loss=create_huber(2), optimizer='nadam', metrics=['mae', 'mse'])\n",
    "model.fit(X_train_scaled, y_train, epochs=5, validation_data=(X_valid_scaled, y_valid))"
   ]
  },
  {
   "cell_type": "code",
   "execution_count": 8,
   "metadata": {},
   "outputs": [
    {
     "name": "stdout",
     "output_type": "stream",
     "text": [
      "121/121 [==============================] - 0s 2ms/step - loss: 0.2122 - mae: 0.4754 - mse: 0.4858\n"
     ]
    },
    {
     "data": {
      "text/plain": [
       "[0.21221832931041718, 0.475413978099823, 0.4857739806175232]"
      ]
     },
     "execution_count": 8,
     "metadata": {},
     "output_type": "execute_result"
    }
   ],
   "source": [
    "model.evaluate(X_valid_scaled, y_valid)"
   ]
  },
  {
   "cell_type": "markdown",
   "metadata": {},
   "source": [
    "Saving and Loading Models That Contain Custom\n",
    "Components\n",
    "> you’ll need to provide a dictionary that maps the function name to the actual function.\n",
    "More generally, when you load a model containing custom objects, you\n",
    "need to map the names to the objects:"
   ]
  },
  {
   "cell_type": "code",
   "execution_count": 9,
   "metadata": {},
   "outputs": [],
   "source": [
    "model.save('save_model/model_custom_loss.h5')\n",
    "model = keras.models.load_model('save_model/model_custom_loss.h5', \n",
    "                                 custom_objects={'create_huber':create_huber(2.0)})"
   ]
  },
  {
   "cell_type": "markdown",
   "metadata": {},
   "source": [
    "> when save model the delta will not be saved "
   ]
  },
  {
   "cell_type": "code",
   "execution_count": 10,
   "metadata": {},
   "outputs": [
    {
     "name": "stdout",
     "output_type": "stream",
     "text": [
      "121/121 [==============================] - 1s 2ms/step - loss: 0.1877 - mae: 0.4754 - mse: 0.4858\n"
     ]
    },
    {
     "data": {
      "text/plain": [
       "[0.1876542568206787, 0.475413978099823, 0.4857739806175232]"
      ]
     },
     "execution_count": 10,
     "metadata": {},
     "output_type": "execute_result"
    }
   ],
   "source": [
    "model.evaluate(X_valid_scaled, y_valid)"
   ]
  },
  {
   "cell_type": "markdown",
   "metadata": {},
   "source": [
    "> it's the same loss values ?"
   ]
  },
  {
   "cell_type": "markdown",
   "metadata": {},
   "source": [
    "we can solve this by creating subclass of keras"
   ]
  },
  {
   "cell_type": "code",
   "execution_count": 11,
   "metadata": {},
   "outputs": [],
   "source": [
    "class HuberLoss(keras.losses.Loss) :\n",
    "    def __init__(self, delta=1.0, **kwargs) :\n",
    "        self.delta = delta \n",
    "        super().__init__(**kwargs) \n",
    "    def call(self, y_true, y_pred) : # run when we call Class\n",
    "        error = y_true - y_pred \n",
    "        is_small = tf.abs(error) < self.delta\n",
    "        sqr_loss = tf.square(error) / 2 # is small\n",
    "        linear_loss = self.delta * tf.abs(error) - 0.5 * (self.delta**2) # is not\n",
    "        return tf.where(is_small, sqr_loss, linear_loss)\n",
    "    def get_config(self) : # return a Python dict containing the configuration of the model.\n",
    "        base_config = super().get_config() \n",
    "        return {**base_config, 'delta':self.delta}"
   ]
  },
  {
   "cell_type": "code",
   "execution_count": 12,
   "metadata": {},
   "outputs": [
    {
     "data": {
      "text/plain": [
       "{'reduction': 'auto', 'name': None, 'delta': 2.0}"
      ]
     },
     "execution_count": 12,
     "metadata": {},
     "output_type": "execute_result"
    }
   ],
   "source": [
    "a = HuberLoss(delta=2.0)\n",
    "a.get_config()"
   ]
  },
  {
   "cell_type": "code",
   "execution_count": 13,
   "metadata": {},
   "outputs": [
    {
     "name": "stdout",
     "output_type": "stream",
     "text": [
      "Epoch 1/5\n",
      "363/363 [==============================] - 3s 4ms/step - loss: 0.8652 - mae: 0.9663 - mse: 1.8749 - val_loss: 0.3394 - val_mae: 0.5424 - val_mse: 3.6225\n",
      "Epoch 2/5\n",
      "363/363 [==============================] - 1s 3ms/step - loss: 0.2438 - mae: 0.5137 - mse: 0.5092 - val_loss: 0.2436 - val_mae: 0.4931 - val_mse: 0.6965\n",
      "Epoch 3/5\n",
      "363/363 [==============================] - 1s 3ms/step - loss: 0.2319 - mae: 0.5016 - mse: 0.4687 - val_loss: 0.2540 - val_mae: 0.4900 - val_mse: 0.9925\n",
      "Epoch 4/5\n",
      "363/363 [==============================] - 1s 3ms/step - loss: 0.2273 - mae: 0.4948 - mse: 0.4609 - val_loss: 0.2057 - val_mae: 0.4731 - val_mse: 0.4130\n",
      "Epoch 5/5\n",
      "363/363 [==============================] - 1s 3ms/step - loss: 0.2224 - mae: 0.4911 - mse: 0.4479 - val_loss: 0.2093 - val_mae: 0.4679 - val_mse: 0.4282\n"
     ]
    },
    {
     "data": {
      "text/plain": [
       "<keras.callbacks.History at 0x20a691944c0>"
      ]
     },
     "execution_count": 13,
     "metadata": {},
     "output_type": "execute_result"
    }
   ],
   "source": [
    "model = keras.models.Sequential([ \n",
    "    keras.layers.Input(shape=(8,)),\n",
    "    keras.layers.Dense(30, activation='selu', kernel_initializer='lecun_normal'),\n",
    "    keras.layers.Dense(1)\n",
    "])\n",
    "\n",
    "model.compile(loss=HuberLoss(2.5231), optimizer='nadam', metrics=['mae', 'mse'])\n",
    "model.fit(X_train_scaled, y_train, epochs=5, validation_data=(X_valid_scaled, y_valid))"
   ]
  },
  {
   "cell_type": "code",
   "execution_count": 14,
   "metadata": {},
   "outputs": [
    {
     "name": "stdout",
     "output_type": "stream",
     "text": [
      "121/121 [==============================] - 0s 2ms/step - loss: 0.2093 - mae: 0.4679 - mse: 0.4282\n"
     ]
    },
    {
     "data": {
      "text/plain": [
       "[0.20930902659893036, 0.4679039418697357, 0.4281725585460663]"
      ]
     },
     "execution_count": 14,
     "metadata": {},
     "output_type": "execute_result"
    }
   ],
   "source": [
    "model.evaluate(X_valid_scaled, y_valid)"
   ]
  },
  {
   "cell_type": "markdown",
   "metadata": {},
   "source": [
    "> When you save the model, the threshold will be saved along with it; and\n",
    "when you load the model, you just need to map the class name to the\n",
    "class itself"
   ]
  },
  {
   "cell_type": "code",
   "execution_count": 15,
   "metadata": {},
   "outputs": [],
   "source": [
    "model.save('save_model/model_custom_loss.h5')\n",
    "model = keras.models.load_model('save_model/model_custom_loss.h5', \n",
    "                                 custom_objects={'HuberLoss':HuberLoss})"
   ]
  },
  {
   "cell_type": "code",
   "execution_count": 16,
   "metadata": {},
   "outputs": [
    {
     "name": "stdout",
     "output_type": "stream",
     "text": [
      "121/121 [==============================] - 0s 2ms/step - loss: 0.2093 - mae: 0.4679 - mse: 0.4282\n"
     ]
    },
    {
     "data": {
      "text/plain": [
       "[0.20930902659893036, 0.4679039418697357, 0.4281725585460663]"
      ]
     },
     "execution_count": 16,
     "metadata": {},
     "output_type": "execute_result"
    }
   ],
   "source": [
    "model.evaluate(X_valid_scaled, y_valid)"
   ]
  },
  {
   "cell_type": "code",
   "execution_count": 17,
   "metadata": {},
   "outputs": [
    {
     "data": {
      "text/plain": [
       "2.5231"
      ]
     },
     "execution_count": 17,
     "metadata": {},
     "output_type": "execute_result"
    }
   ],
   "source": [
    "model.loss.delta"
   ]
  },
  {
   "cell_type": "markdown",
   "metadata": {},
   "source": [
    "> When you save a model, Keras calls the loss instance’s get_config()\n",
    "method and saves the config as JSON in the HDF5 file. When you load the\n",
    "model, it calls the from_config() class method on the HuberLoss class:"
   ]
  },
  {
   "cell_type": "markdown",
   "metadata": {},
   "source": [
    "> that's just create Class and everything will easier"
   ]
  },
  {
   "cell_type": "markdown",
   "metadata": {},
   "source": [
    "## Other Custom Functions "
   ]
  },
  {
   "cell_type": "code",
   "execution_count": 18,
   "metadata": {},
   "outputs": [],
   "source": [
    "# if not use **kwargs have not to call parent \n",
    "class Regularizer_L1(keras.regularizers.Regularizer) :\n",
    "    def __init__(self, factor) :\n",
    "        self.factor = factor\n",
    "    def __call__(self, weights) :\n",
    "        return tf.reduce_sum(tf.abs(self.factor * weights))\n",
    "    def get_config(self) :\n",
    "        return {'factor': self.factor}\n",
    "    "
   ]
  },
  {
   "cell_type": "code",
   "execution_count": 19,
   "metadata": {},
   "outputs": [
    {
     "name": "stdout",
     "output_type": "stream",
     "text": [
      "Epoch 1/2\n",
      "363/363 [==============================] - 2s 3ms/step - loss: 4.0052 - mae: 1.3993 - val_loss: 4.3152 - val_mae: 0.6974\n",
      "Epoch 2/2\n",
      "363/363 [==============================] - 1s 2ms/step - loss: 1.2543 - mae: 0.6166 - val_loss: 1.8933 - val_mae: 0.5850\n"
     ]
    },
    {
     "data": {
      "text/plain": [
       "<keras.callbacks.History at 0x20a6a4a1db0>"
      ]
     },
     "execution_count": 19,
     "metadata": {},
     "output_type": "execute_result"
    }
   ],
   "source": [
    "model = keras.models.Sequential([ \n",
    "    keras.layers.Dense(30, activation='relu', input_shape=(8,), kernel_regularizer=Regularizer_L1(0.017)),\n",
    "    keras.layers.Dense(1)\n",
    "])\n",
    "\n",
    "model.compile(loss=\"mse\", optimizer=\"nadam\", metrics=[\"mae\"])\n",
    "model.fit(X_train_scaled, y_train, epochs=2,\n",
    "          validation_data=(X_valid_scaled, y_valid))"
   ]
  },
  {
   "cell_type": "code",
   "execution_count": 20,
   "metadata": {},
   "outputs": [
    {
     "name": "stdout",
     "output_type": "stream",
     "text": [
      "121/121 [==============================] - 0s 2ms/step - loss: 1.8933 - mae: 0.5850\n"
     ]
    },
    {
     "data": {
      "text/plain": [
       "[1.8932678699493408, 0.5850476026535034]"
      ]
     },
     "execution_count": 20,
     "metadata": {},
     "output_type": "execute_result"
    }
   ],
   "source": [
    "model.evaluate(X_valid_scaled, y_valid)"
   ]
  },
  {
   "cell_type": "code",
   "execution_count": 21,
   "metadata": {},
   "outputs": [
    {
     "name": "stdout",
     "output_type": "stream",
     "text": [
      "121/121 [==============================] - 0s 2ms/step - loss: 1.8933 - mae: 0.5850\n"
     ]
    },
    {
     "data": {
      "text/plain": [
       "[1.8932678699493408, 0.5850476026535034]"
      ]
     },
     "execution_count": 21,
     "metadata": {},
     "output_type": "execute_result"
    }
   ],
   "source": [
    "model.save('save_model/model_custom_loss.h5')\n",
    "model = keras.models.load_model('save_model/model_custom_loss.h5', \n",
    "                                 custom_objects={'Regularizer_L1':Regularizer_L1})\n",
    "model.evaluate(X_valid_scaled, y_valid)"
   ]
  },
  {
   "cell_type": "markdown",
   "metadata": {},
   "source": [
    "> Note that you must implement the call() method for \n",
    "> - losses, layers (including activation functions), \n",
    "\n",
    "> and models, or the dunder __call__() method for\n",
    "> - regularizers, initializers, and constraints. For metrics, things are a bit different, as we will see now"
   ]
  },
  {
   "cell_type": "markdown",
   "metadata": {},
   "source": [
    "## Custom Metrics"
   ]
  },
  {
   "cell_type": "code",
   "execution_count": 22,
   "metadata": {},
   "outputs": [
    {
     "data": {
      "text/plain": [
       "0.75"
      ]
     },
     "execution_count": 22,
     "metadata": {},
     "output_type": "execute_result"
    }
   ],
   "source": [
    "# precistion = tp / (tp + fp)\n",
    "precision = keras.metrics.Precision()\n",
    "precision([0,1,1,0 ,1,1,0,0], [1,1,1,0 ,0,1,0,0]).numpy()"
   ]
  },
  {
   "cell_type": "code",
   "execution_count": 23,
   "metadata": {},
   "outputs": [
    {
     "data": {
      "text/plain": [
       "0.75"
      ]
     },
     "execution_count": 23,
     "metadata": {},
     "output_type": "execute_result"
    }
   ],
   "source": [
    "3 / (3 + 1) # tp = True postitive ; only Correct and positive(1)"
   ]
  },
  {
   "cell_type": "markdown",
   "metadata": {},
   "source": [
    "> remember when you call precistion again it will use result from previous"
   ]
  },
  {
   "cell_type": "code",
   "execution_count": 24,
   "metadata": {},
   "outputs": [
    {
     "data": {
      "text/plain": [
       "<tf.Tensor: shape=(), dtype=float32, numpy=0.8>"
      ]
     },
     "execution_count": 24,
     "metadata": {},
     "output_type": "execute_result"
    }
   ],
   "source": [
    "precision([1],[1]) # like this it must be 1 but add on 0.75 frome previous"
   ]
  },
  {
   "cell_type": "code",
   "execution_count": 25,
   "metadata": {},
   "outputs": [
    {
     "data": {
      "text/plain": [
       "[<tf.Variable 'true_positives:0' shape=(1,) dtype=float32, numpy=array([4.], dtype=float32)>,\n",
       " <tf.Variable 'false_positives:0' shape=(1,) dtype=float32, numpy=array([1.], dtype=float32)>]"
      ]
     },
     "execution_count": 25,
     "metadata": {},
     "output_type": "execute_result"
    }
   ],
   "source": [
    "precision.variables"
   ]
  },
  {
   "cell_type": "code",
   "execution_count": 26,
   "metadata": {},
   "outputs": [
    {
     "data": {
      "text/plain": [
       "<tf.Tensor: shape=(), dtype=float32, numpy=1.0>"
      ]
     },
     "execution_count": 26,
     "metadata": {},
     "output_type": "execute_result"
    }
   ],
   "source": [
    "precision.reset_states()\n",
    "precision([1],[1])  # like this"
   ]
  },
  {
   "cell_type": "markdown",
   "metadata": {},
   "source": [
    "Creating a streaming metric:"
   ]
  },
  {
   "cell_type": "code",
   "execution_count": 27,
   "metadata": {},
   "outputs": [],
   "source": [
    "class HuberMatric(keras.metrics.Metric) :\n",
    "    def __init__(self, delta=1.0, **kwargs) :\n",
    "        super().__init__(**kwargs) \n",
    "        self.delta = delta\n",
    "        self.huber_fn = create_huber(delta)\n",
    "        self.total = self.add_weight('total', initializer='zeros')\n",
    "        self.count = self.add_weight('count', initializer='zeros')\n",
    "    def update_state(self, y_true, y_pred, sample_weight=None):\n",
    "        metric = self.huber_fn(y_true, y_pred)\n",
    "        self.total.assign_add(tf.reduce_sum(metric))\n",
    "        self.count.assign_add(tf.cast(tf.size(y_true), tf.float32))\n",
    "    def result(self):\n",
    "        return self.total / self.count\n",
    "    def get_config(self):\n",
    "        base_config = super().get_config()\n",
    "        return {**base_config, \"delta\": self.delta}"
   ]
  },
  {
   "cell_type": "code",
   "execution_count": 28,
   "metadata": {},
   "outputs": [
    {
     "data": {
      "text/plain": [
       "<tf.Tensor: shape=(), dtype=float32, numpy=2.0>"
      ]
     },
     "execution_count": 28,
     "metadata": {},
     "output_type": "execute_result"
    }
   ],
   "source": [
    "metric = HuberMatric(2.0)\n",
    "metric(tf.constant([[9.]]), tf.constant([[11.]]))"
   ]
  },
  {
   "cell_type": "code",
   "execution_count": 29,
   "metadata": {},
   "outputs": [
    {
     "data": {
      "text/plain": [
       "2.0"
      ]
     },
     "execution_count": 29,
     "metadata": {},
     "output_type": "execute_result"
    }
   ],
   "source": [
    "# delta * tf.abs(error) - 0.5 * (delta**2)\n",
    "total = 2 * (11 - 9) - 0.5 * 2**2 \n",
    "total"
   ]
  },
  {
   "cell_type": "code",
   "execution_count": 41,
   "metadata": {},
   "outputs": [
    {
     "name": "stdout",
     "output_type": "stream",
     "text": [
      "Epoch 1/2\n",
      "363/363 [==============================] - 1s 2ms/step - loss: 0.7599 - huber_matric_3: 0.7599\n",
      "Epoch 2/2\n",
      "363/363 [==============================] - 0s 1ms/step - loss: 0.2593 - huber_matric_3: 0.2593\n"
     ]
    },
    {
     "data": {
      "text/plain": [
       "<keras.callbacks.History at 0x20a69419cc0>"
      ]
     },
     "execution_count": 41,
     "metadata": {},
     "output_type": "execute_result"
    }
   ],
   "source": [
    "model = keras.models.Sequential([ \n",
    "    keras.layers.Dense(30, activation='selu', kernel_initializer='lecun_normal'),\n",
    "    keras.layers.Dense(1)\n",
    "])\n",
    "\n",
    "model.compile(loss=keras.losses.Huber(2.0), optimizer='nadam', weighted_metrics=[HuberMatric(2.0)])\n",
    "model.fit(X_train_scaled.astype(np.float32), y_train.astype(np.float32), epochs=2)"
   ]
  },
  {
   "cell_type": "code",
   "execution_count": 42,
   "metadata": {},
   "outputs": [
    {
     "name": "stdout",
     "output_type": "stream",
     "text": [
      "121/121 [==============================] - 0s 2ms/step - loss: 0.3257 - huber_matric_3: 0.3257\n"
     ]
    },
    {
     "data": {
      "text/plain": [
       "[0.3257358968257904, 0.3257358968257904]"
      ]
     },
     "execution_count": 42,
     "metadata": {},
     "output_type": "execute_result"
    }
   ],
   "source": [
    "model.evaluate(X_valid_scaled.astype(np.float32), y_valid.astype(np.float32))"
   ]
  },
  {
   "cell_type": "code",
   "execution_count": 43,
   "metadata": {},
   "outputs": [
    {
     "data": {
      "text/plain": [
       "2.0"
      ]
     },
     "execution_count": 43,
     "metadata": {},
     "output_type": "execute_result"
    }
   ],
   "source": [
    "model.metrics[-1].delta"
   ]
  },
  {
   "cell_type": "markdown",
   "metadata": {},
   "source": [
    "## Custom Layers"
   ]
  },
  {
   "cell_type": "code",
   "execution_count": 49,
   "metadata": {},
   "outputs": [
    {
     "name": "stdout",
     "output_type": "stream",
     "text": [
      "[0.13533528 0.36787945 1.         2.7182817  7.389056  ]\n"
     ]
    }
   ],
   "source": [
    "exponentail_layer = keras.layers.Lambda(lambda z : tf.exp(z))\n",
    "print(exponentail_layer([-2.,-1.,0.,1.,2.]).numpy())"
   ]
  },
  {
   "cell_type": "code",
   "execution_count": 57,
   "metadata": {},
   "outputs": [
    {
     "data": {
      "text/plain": [
       "<tf.Tensor: shape=(2,), dtype=float32, numpy=array([-13., -10.], dtype=float32)>"
      ]
     },
     "execution_count": 57,
     "metadata": {},
     "output_type": "execute_result"
    }
   ],
   "source": [
    "def f(z) :\n",
    "    return tf.add(z, -12)\n",
    "keras.layers.Lambda(f)([-1.,2.])"
   ]
  }
 ],
 "metadata": {
  "kernelspec": {
   "display_name": "Python 3.10.0 64-bit",
   "language": "python",
   "name": "python3"
  },
  "language_info": {
   "codemirror_mode": {
    "name": "ipython",
    "version": 3
   },
   "file_extension": ".py",
   "mimetype": "text/x-python",
   "name": "python",
   "nbconvert_exporter": "python",
   "pygments_lexer": "ipython3",
   "version": "3.10.0"
  },
  "orig_nbformat": 4,
  "vscode": {
   "interpreter": {
    "hash": "63e79917a05e390872358bfb73c58bc903ada01d2d04077091749088207d82cf"
   }
  }
 },
 "nbformat": 4,
 "nbformat_minor": 2
}
