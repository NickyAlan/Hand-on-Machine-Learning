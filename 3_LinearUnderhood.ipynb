{
 "cells": [
  {
   "cell_type": "markdown",
   "metadata": {},
   "source": [
    "# What's under the hood\n",
    "\n",
    "walk through what's under the hood: having a good understand can help you quickly in on the appropriate model\n",
    "\n",
    "we will start with simplest models *Linear Regression* . discuss 2 very different ways to train it\n",
    "* using a direct *closed-form* equation that computes model parameters to best fit to training set\n",
    "* using an iterative optimizer *Gradient Descent (GD)* that gradually tweaks the parameters to minimize the cost function\n",
    ": Batch GD, Mini-batch GD and Stochastic GD\n",
    "\n",
    "\n",
    "then we will look at *Polynomial Regression* a more complex model that can fit non-linear datasets. it's more prone to overfitting, then we will look at *Regularization* that can reduce the risk of over fitting\n",
    "\n",
    "and finally, look at are commonly for classification task: *Logistic Regression* and *Softmax Regression*"
   ]
  },
  {
   "cell_type": "markdown",
   "metadata": {},
   "source": [
    "## Linear Regression\n",
    "\n",
    "*y = (m1x1) + (m2x2) + ... + bias*\n",
    "\n",
    "*y = Mx + b* ; M is weights of all input(x) and b is bias of the neuron"
   ]
  },
  {
   "cell_type": "markdown",
   "metadata": {},
   "source": [
    "**mean squared error (MSE)** cost fuction for a Linear Regression model\n",
    "\n",
    "\n",
    ">What is a Cost Function?:\n",
    "A cost function is a formula used to predict the cost that will be experienced at a certain activity level. \n",
    "\n",
    "The Normal Equation :\n",
    "* fine the θ  value that minimizes the cost function\n",
    "* : θ  = (X.T X)**-1 X.T y\n"
   ]
  },
  {
   "cell_type": "code",
   "execution_count": 43,
   "metadata": {},
   "outputs": [
    {
     "data": {
      "image/png": "[encoded data removed]",
      "text/plain": [
       "<Figure size 432x288 with 1 Axes>"
      ]
     },
     "metadata": {
      "needs_background": "light"
     },
     "output_type": "display_data"
    }
   ],
   "source": [
    "import numpy as np\n",
    "import matplotlib.pyplot as plt\n",
    "\n",
    "np.random.seed(42)\n",
    "X = 2*np.random.rand(100,1) # rand = [0,1] shape = 100,1\n",
    "y = 4+3*X + np.random.randn(100,1) # randn = standard noramal\n",
    "\n",
    "plt.scatter(X,y,s=10)\n",
    "plt.xlabel('X')\n",
    "plt.ylabel('Y')\n",
    "plt.show()"
   ]
  },
  {
   "cell_type": "markdown",
   "metadata": {},
   "source": [
    "Now let's compute θ using *Normal Equation* \n",
    "* np.linalg.inv : inverse of matrix\n",
    "* dot : matrix multiplication"
   ]
  },
  {
   "cell_type": "code",
   "execution_count": 44,
   "metadata": {},
   "outputs": [
    {
     "data": {
      "text/plain": [
       "array([[0.74908024],\n",
       "       [1.90142861],\n",
       "       [1.46398788],\n",
       "       [1.19731697]])"
      ]
     },
     "execution_count": 44,
     "metadata": {},
     "output_type": "execute_result"
    }
   ],
   "source": [
    "X[:4,:]"
   ]
  },
  {
   "cell_type": "code",
   "execution_count": 45,
   "metadata": {},
   "outputs": [
    {
     "data": {
      "text/plain": [
       "array([[1.        , 0.74908024],\n",
       "       [1.        , 1.90142861],\n",
       "       [1.        , 1.46398788],\n",
       "       [1.        , 1.19731697]])"
      ]
     },
     "execution_count": 45,
     "metadata": {},
     "output_type": "execute_result"
    }
   ],
   "source": [
    "X_b = np.c_[np.ones((100,1)),X] # X0 = 1 for each instance\n",
    "X_b[:4,:]"
   ]
  },
  {
   "cell_type": "code",
   "execution_count": 46,
   "metadata": {},
   "outputs": [
    {
     "data": {
      "text/plain": [
       "array([[4.21509616],\n",
       "       [2.77011339]])"
      ]
     },
     "execution_count": 46,
     "metadata": {},
     "output_type": "execute_result"
    }
   ],
   "source": [
    "theta_best = np.linalg.inv(X_b.T.dot(X_b)).dot(X_b.T).dot(y)\n",
    "theta_best"
   ]
  },
  {
   "cell_type": "markdown",
   "metadata": {},
   "source": [
    "> generate the data is *y = 4 + 3X + Guassian noise*\n",
    "\n",
    "> Gaussian noise is a type of random noise that has a probability density function (PDF) that is defined by a normal distribution with a mean of zero.\n",
    "* we get θ = 4.214 and 2.77 because noise made it hard to find θ = 4 and 3"
   ]
  },
  {
   "cell_type": "markdown",
   "metadata": {},
   "source": [
    "make prediction with our θ"
   ]
  },
  {
   "cell_type": "code",
   "execution_count": 47,
   "metadata": {},
   "outputs": [
    {
     "data": {
      "text/plain": [
       "(array([[0],\n",
       "        [2]]),\n",
       " array([[4.21509616],\n",
       "        [9.75532293]]))"
      ]
     },
     "execution_count": 47,
     "metadata": {},
     "output_type": "execute_result"
    }
   ],
   "source": [
    "X_new  = np.array([[0],[2]])\n",
    "X_new_b = np.c_[np.ones((2,1)),X_new] # X0 = 1 for each instance\n",
    "y_predict = X_new_b.dot(theta_best)\n",
    "X_new, y_predict\n"
   ]
  },
  {
   "cell_type": "code",
   "execution_count": 48,
   "metadata": {},
   "outputs": [
    {
     "data": {
      "image/png": "[encoded data removed]",
      "text/plain": [
       "<Figure size 432x288 with 1 Axes>"
      ]
     },
     "metadata": {
      "needs_background": "light"
     },
     "output_type": "display_data"
    }
   ],
   "source": [
    "plt.plot(X_new, y_predict, 'r-')\n",
    "plt.plot(X,y,'b.')\n",
    "plt.axis([0,2,1,11]) # scale x = 0->2 y = 1->11\n",
    "plt.show()"
   ]
  },
  {
   "cell_type": "markdown",
   "metadata": {},
   "source": [
    "Perfoming Linear Regression using Scikit-Learn is simple"
   ]
  },
  {
   "cell_type": "code",
   "execution_count": 49,
   "metadata": {},
   "outputs": [
    {
     "data": {
      "text/plain": [
       "(array([4.21509616]), array([[2.77011339]]))"
      ]
     },
     "execution_count": 49,
     "metadata": {},
     "output_type": "execute_result"
    }
   ],
   "source": [
    "from sklearn.linear_model import LinearRegression\n",
    "\n",
    "linear_model = LinearRegression()\n",
    "linear_model.fit(X,y)\n",
    "linear_model.intercept_, linear_model.coef_"
   ]
  },
  {
   "cell_type": "markdown",
   "metadata": {},
   "source": [
    "> that is θ that we have found"
   ]
  },
  {
   "cell_type": "code",
   "execution_count": 50,
   "metadata": {},
   "outputs": [
    {
     "data": {
      "text/plain": [
       "array([[4.21509616],\n",
       "       [9.75532293]])"
      ]
     },
     "execution_count": 50,
     "metadata": {},
     "output_type": "execute_result"
    }
   ],
   "source": [
    "linear_model.predict(X_new)"
   ]
  },
  {
   "cell_type": "code",
   "execution_count": 51,
   "metadata": {},
   "outputs": [
    {
     "data": {
      "text/plain": [
       "array([[4.21509616, 9.75532293]])"
      ]
     },
     "execution_count": 51,
     "metadata": {},
     "output_type": "execute_result"
    }
   ],
   "source": [
    "def predict_linear(x):\n",
    "    # y = Mx + b\n",
    "    predicton = linear_model.coef_*x + linear_model.intercept_\n",
    "    return predicton\n",
    "predict_linear([0,2])"
   ]
  },
  {
   "cell_type": "markdown",
   "metadata": {},
   "source": [
    "Now we will look at a very different way to train a Linear Regression model, which is better suited for cases where there are a large number of features or to manay traning instance to fit in memory"
   ]
  },
  {
   "cell_type": "markdown",
   "metadata": {},
   "source": [
    "## Gradient Descent"
   ]
  },
  {
   "cell_type": "markdown",
   "metadata": {},
   "source": [
    "*GradientDescent* is tweak parameters iteratively in order to minimize a cost function\n",
    "\n",
    "suppose you are lost in the mountains in a dense fog. you can only feel slope by your feet. if you have exactly step(*learning rate*) you can quickly go downhill.\n",
    "\n",
    "Concretely, you start with a random values(called *random initialization*). then improve gradually, taking one by baby step at a time, each step attempting to decrease cost function (e.g. the MSE) until *converges to a minimium.*\n",
    "\n",
    "but it's not easy if the random initialuzation with not good position on the mountain. it will converge to a *local mninmum*. which is not as good as the *global minimum*.\n",
    "\n",
    "fortunately the MSE cost function, if you pick any two point the line segment joining them never crosses the curve.this implies that thre are no local minima.\n",
    "\n",
    "**WARNING :** when using GradientDescent, you shold have a similar scale of all features (e.g. using *Scikit-Learn's StandardScaler*) or it will take much to converge."
   ]
  },
  {
   "cell_type": "markdown",
   "metadata": {},
   "source": [
    "**Batch Gradient Descent** : to implement Gradient Descent, need to compute the gradient of the cost function(how mush the cost fuction will change if you change θ a little bit. this called a *partial derivative*), it uses the whole vatch of training data at every step(actaully, *Full Gradient Descent* would a better name)\n",
    "\n",
    "**Equation** : θnext = θ - ηΔMSE"
   ]
  },
  {
   "cell_type": "code",
   "execution_count": 52,
   "metadata": {},
   "outputs": [
    {
     "data": {
      "text/plain": [
       "array([[4.21509616],\n",
       "       [2.77011339]])"
      ]
     },
     "execution_count": 52,
     "metadata": {},
     "output_type": "execute_result"
    }
   ],
   "source": [
    "def Gradient_Descent(eta):\n",
    "    eta = eta # learning rate\n",
    "    epoch = 1000\n",
    "    m = 100 # len data\n",
    "    theta = np.random.randn(2,1) # random initializtion shape=(2,1)\n",
    "\n",
    "    for iteration in range(epoch):\n",
    "        gradient = 2/m * X_b.T.dot(X_b.dot(theta) - y)\n",
    "        theta = theta - (eta*gradient)\n",
    "\n",
    "    return theta\n",
    "\n",
    "Gradient_Descent(.1)"
   ]
  },
  {
   "cell_type": "markdown",
   "metadata": {},
   "source": [
    "> that's exactly what the Normal Equation found!, but what if we use diffenrent learning rate"
   ]
  },
  {
   "cell_type": "code",
   "execution_count": 53,
   "metadata": {},
   "outputs": [
    {
     "name": "stdout",
     "output_type": "stream",
     "text": [
      "η = 0.02 \n",
      " [[4.21235214]\n",
      " [2.7725362 ]]\n",
      "η = 0.1 \n",
      " [[4.21509616]\n",
      " [2.77011339]]\n",
      "η = 0.5 \n",
      " [[-7.92078232e+27]\n",
      " [-8.97086062e+27]]\n"
     ]
    }
   ],
   "source": [
    "print('η = 0.02 \\n',Gradient_Descent(.02))\n",
    "print('η = 0.1 \\n',Gradient_Descent(.1))\n",
    "print('η = 0.5 \\n',Gradient_Descent(.5))"
   ]
  },
  {
   "cell_type": "markdown",
   "metadata": {},
   "source": [
    "**Stochastic Gradient Descent** : main problem with Batch GD is it uses the whole training set to compute the gradeints at every step, which makes it very slow when is large scale.\n",
    "Stochastic GD picks a random instance in the training set at every step and compute the gradients based on that single instance.\n",
    "\n",
    "but Stochatic will bounce around, so finally parameters values are good, but not oprtimal. but its will jump out of local minimum to find global minimum. This process is akin to *simulated annealing*. The function that determines the leraning rate at each iteration is called *Learning Schedule*"
   ]
  },
  {
   "cell_type": "code",
   "execution_count": 54,
   "metadata": {},
   "outputs": [
    {
     "data": {
      "text/plain": [
       "array([[4.17911507],\n",
       "       [2.72630443]])"
      ]
     },
     "execution_count": 54,
     "metadata": {},
     "output_type": "execute_result"
    }
   ],
   "source": [
    "epoch = 50\n",
    "t0, t1 = 5, 50 # Learning Schedule\n",
    "m = 100\n",
    "theta = np.random.randn(2,1)\n",
    "\n",
    "def learning_schedule(t):\n",
    "    return t0 / (t + t1)\n",
    "\n",
    "for iteration in range(epoch) :\n",
    "    for i in range(m):\n",
    "        random_idx = np.random.randint(m)\n",
    "        xi = X_b[random_idx:random_idx+1]\n",
    "        yi = y[random_idx:random_idx+1]\n",
    "        gradient = 2*xi.T.dot(xi.dot(theta) - yi)\n",
    "        eta = learning_schedule(iteration * m+i)\n",
    "        theta = theta - (eta*gradient)\n",
    "\n",
    "theta"
   ]
  },
  {
   "cell_type": "markdown",
   "metadata": {},
   "source": [
    "Using Stochastic GD with Scikit-Learn"
   ]
  },
  {
   "cell_type": "code",
   "execution_count": 55,
   "metadata": {},
   "outputs": [
    {
     "data": {
      "text/plain": [
       "SGDRegressor(eta0=0.1, penalty=None)"
      ]
     },
     "execution_count": 55,
     "metadata": {},
     "output_type": "execute_result"
    }
   ],
   "source": [
    "from sklearn.linear_model import SGDRegressor\n",
    "\n",
    "'''\n",
    "tol : tolerance , if nothing improve will stop\n",
    "penalty = None ; not use any regularization(in order to minimize the adjusted \n",
    "          loss function and prevent overfitting or underfitting)\n",
    "eta0 = learing shedule\n",
    "'''\n",
    "SGD_model = SGDRegressor(max_iter=1000, tol=1e-3, penalty=None, eta0=.1)\n",
    "SGD_model.fit(X,y.ravel()) # change y to 1d array"
   ]
  },
  {
   "cell_type": "code",
   "execution_count": 56,
   "metadata": {},
   "outputs": [
    {
     "data": {
      "text/plain": [
       "(array([4.13793311]), array([2.71708528]))"
      ]
     },
     "execution_count": 56,
     "metadata": {},
     "output_type": "execute_result"
    }
   ],
   "source": [
    "SGD_model.intercept_, SGD_model.coef_"
   ]
  },
  {
   "cell_type": "markdown",
   "metadata": {},
   "source": [
    "> that was close at the **Theta** we found"
   ]
  },
  {
   "cell_type": "markdown",
   "metadata": {},
   "source": [
    "**Mini-batch Gradient Descent** : compute the gradient on small random sets of instance. Mini-batch have advantage over SGD is that you can get performance boost from GPUs.\n",
    "\n",
    "* will walking closer to minimum than SGD\n",
    "* but suffer from go out local minima"
   ]
  },
  {
   "cell_type": "markdown",
   "metadata": {},
   "source": [
    "## Polynomial Regression\n",
    "\n",
    "what if data is more complex than a  straight line?, you can use *LinearModel* to fit non-linear data but add power of each feature as new feature.this is called *PolynomialRegression*"
   ]
  },
  {
   "cell_type": "code",
   "execution_count": 57,
   "metadata": {},
   "outputs": [
    {
     "data": {
      "image/png": "[encoded data removed]",
      "text/plain": [
       "<Figure size 432x288 with 1 Axes>"
      ]
     },
     "metadata": {
      "needs_background": "light"
     },
     "output_type": "display_data"
    }
   ],
   "source": [
    "m = 100\n",
    "np.random.seed(42)\n",
    "X = 6*np.random.rand(m,1) - 3\n",
    "y = (.5 * X**2) + X + 2 + np.random.randn(m,1)\n",
    "\n",
    "plt.scatter(X,y,s=8);"
   ]
  },
  {
   "cell_type": "markdown",
   "metadata": {},
   "source": [
    "Let's adding the square of each feature "
   ]
  },
  {
   "cell_type": "code",
   "execution_count": 58,
   "metadata": {},
   "outputs": [
    {
     "data": {
      "text/plain": [
       "(array([[-0.75275929],\n",
       "        [ 2.70428584]]),\n",
       " array([[-0.75275929,  0.56664654],\n",
       "        [ 2.70428584,  7.3131619 ]]))"
      ]
     },
     "execution_count": 58,
     "metadata": {},
     "output_type": "execute_result"
    }
   ],
   "source": [
    "from sklearn.preprocessing import PolynomialFeatures\n",
    "\n",
    "poly_features = PolynomialFeatures(degree=2, include_bias=False)\n",
    "X_poly = poly_features.fit_transform(X)\n",
    "X[:2], X_poly[:2] "
   ]
  },
  {
   "cell_type": "markdown",
   "metadata": {},
   "source": [
    "> X_poly now contain original of X plus the square of this. Now can fit a LinearREgression"
   ]
  },
  {
   "cell_type": "code",
   "execution_count": 59,
   "metadata": {},
   "outputs": [
    {
     "data": {
      "text/plain": [
       "(array([1.78134581]), array([[0.93366893, 0.56456263]]))"
      ]
     },
     "execution_count": 59,
     "metadata": {},
     "output_type": "execute_result"
    }
   ],
   "source": [
    "linear_model = LinearRegression()\n",
    "linear_model.fit(X_poly, y)\n",
    "linear_model.intercept_, linear_model.coef_"
   ]
  },
  {
   "cell_type": "markdown",
   "metadata": {},
   "source": [
    "> y = .5X**2 + X + 2 + Guassim noise\n",
    "* estimate to : .56X**2 + .93X + 1.78"
   ]
  },
  {
   "cell_type": "code",
   "execution_count": 60,
   "metadata": {},
   "outputs": [
    {
     "data": {
      "text/plain": [
       "array([[ True],\n",
       "       [ True],\n",
       "       [ True],\n",
       "       [ True],\n",
       "       [ True]])"
      ]
     },
     "execution_count": 60,
     "metadata": {},
     "output_type": "execute_result"
    }
   ],
   "source": [
    "pred = linear_model.coef_[0][1]*X**2 + linear_model.coef_[0][0]*X + linear_model.intercept_\n",
    "pred[:5] == linear_model.predict(X_poly)[:5]"
   ]
  },
  {
   "cell_type": "code",
   "execution_count": 61,
   "metadata": {},
   "outputs": [
    {
     "data": {
      "image/png": "[encoded data removed]",
      "text/plain": [
       "<Figure size 432x288 with 1 Axes>"
      ]
     },
     "metadata": {
      "needs_background": "light"
     },
     "output_type": "display_data"
    }
   ],
   "source": [
    "X_new= np.linspace(-3, 3, 100).reshape(100, 1) # create X\n",
    "X_new_poly = poly_features.transform(X_new)\n",
    "y_new = linear_model.predict(X_new_poly)\n",
    "plt.plot(X, y, \"b.\")\n",
    "plt.plot(X_new, y_new, \"r-\",label=\"Predictions\")\n",
    "plt.xlabel(\"$x_1$\", fontsize=18)\n",
    "plt.ylabel(\"$y$\", rotation=0, fontsize=18)\n",
    "plt.legend(loc=\"upper left\", fontsize=14)\n",
    "plt.axis([-3, 3, -1, 11])\n",
    "plt.show()"
   ]
  },
  {
   "cell_type": "markdown",
   "metadata": {},
   "source": [
    "### Learning Curves\n",
    "\n",
    "if we use high-degree model is severely overfitting in the trainning data, while the lineare model is underfitting. but in fact you don;t know what function generated the data, so how can you decide how complex model should be? How can tell is ovetfitting or underfitting?\n",
    "\n",
    "*Leraning Curves*: these are plots of the model's performance on the training set and the validation set"
   ]
  },
  {
   "cell_type": "code",
   "execution_count": 62,
   "metadata": {},
   "outputs": [
    {
     "data": {
      "image/png": "[encoded data removed]",
      "text/plain": [
       "<Figure size 432x288 with 1 Axes>"
      ]
     },
     "metadata": {
      "needs_background": "light"
     },
     "output_type": "display_data"
    }
   ],
   "source": [
    "from sklearn.metrics import mean_squared_error\n",
    "from sklearn.model_selection import train_test_split\n",
    "\n",
    "def plot_learning_curves(model,X,y):\n",
    "    X_train, X_val, y_train, y_val = train_test_split(X,y,test_size=.2, random_state=42)\n",
    "    train_errors, val_errors = [], []\n",
    "    \n",
    "    for m in range(1,len(X_train)):\n",
    "        model.fit(X_train[:m], y_train[:m])\n",
    "        y_train_pred = model.predict(X_train[:m])\n",
    "        y_val_pred = model.predict(X_val)\n",
    "\n",
    "        train_errors.append(mean_squared_error(y_train[:m], y_train_pred))\n",
    "        val_errors.append(mean_squared_error(y_val, y_val_pred))\n",
    "    \n",
    "    plt.plot(np.sqrt(train_errors), 'r-', linewidth=2, label='Train')\n",
    "    plt.plot(np.sqrt(val_errors), 'b-', linewidth=1, label='Val')\n",
    "    plt.xlabel('Training set size')\n",
    "    plt.ylabel('RMSE')\n",
    "    plt.legend(fontsize=12);\n",
    " \n",
    "lin_reg = LinearRegression()\n",
    "plot_learning_curves(lin_reg, X, y)\n",
    "plt.axis([0,50,-.5,5]);"
   ]
  },
  {
   "cell_type": "markdown",
   "metadata": {},
   "source": [
    "> the model that's underfitting. First let's look at when have a few of instance RMSE close to 0 but when have more instance its increase\n",
    "\n",
    "let's look at the learning curve of a 10th-degree polynomial model"
   ]
  },
  {
   "cell_type": "code",
   "execution_count": 63,
   "metadata": {},
   "outputs": [
    {
     "data": {
      "image/png": "[encoded data removed]",
      "text/plain": [
       "<Figure size 432x288 with 1 Axes>"
      ]
     },
     "metadata": {
      "needs_background": "light"
     },
     "output_type": "display_data"
    }
   ],
   "source": [
    "from sklearn.pipeline import Pipeline\n",
    "\n",
    "polynomial_reg = Pipeline([ \n",
    "    ('poly_features', PolynomialFeatures(degree=10, include_bias=False)),\n",
    "    ('lin_ref',LinearRegression())\n",
    "])\n",
    "\n",
    "plot_learning_curves(polynomial_reg,X,y)\n",
    "plt.axis([0,30,-1,10]);"
   ]
  },
  {
   "cell_type": "markdown",
   "metadata": {},
   "source": [
    "> the model it's pretty good(have lower loss than LinearRegression) but it's slighly overfitting(have some space between Traning and Val RMSE) it's will closer if more train data"
   ]
  },
  {
   "cell_type": "markdown",
   "metadata": {},
   "source": [
    "## Regularized Linear Models\n",
    "\n",
    "good way to reduce overfitting is to tegularize the model(constrain it). A simple way to regularize a polynomial model is to reduce a degrees.\n",
    "\n",
    "for LinearModel, is typically constraining the weights of the model. \n",
    "* Ridge Regression\n",
    "* Lasso Regression\n",
    "* Elastic Net\n",
    "\n",
    "which implement three different ways to constrain the weights."
   ]
  },
  {
   "cell_type": "markdown",
   "metadata": {},
   "source": [
    "### Ridge Regression\n",
    "force the learning algorithm to keep the model weights as small as possible.\n",
    "\n",
    "*Equation* | J(θ) = MSE(θ) + α/2 * SUM(i->n)θ**2\n",
    "\n",
    "α : is controls how mush you want to regularize the model. if α = 0, the is just a LinearRegression, if α is very large then all weights end up very close to zero and the result is a flatline\n"
   ]
  },
  {
   "cell_type": "code",
   "execution_count": 64,
   "metadata": {},
   "outputs": [
    {
     "data": {
      "text/plain": [
       "array([[4.82497007],\n",
       "       [5.49773363]])"
      ]
     },
     "execution_count": 64,
     "metadata": {},
     "output_type": "execute_result"
    }
   ],
   "source": [
    "from sklearn.linear_model import Ridge\n",
    "\n",
    "ridge_reg = Ridge(alpha=1, solver='cholesky') # André-Louis Cholesky : Matrix factorization\n",
    "ridge_reg.fit(X,y) \n",
    "ridge_reg.predict([[1.5],[2.3]])"
   ]
  },
  {
   "cell_type": "markdown",
   "metadata": {},
   "source": [
    "which uses L2 is called Ridge Regression."
   ]
  },
  {
   "cell_type": "code",
   "execution_count": 65,
   "metadata": {},
   "outputs": [
    {
     "data": {
      "text/plain": [
       "array([4.80078479, 5.47383353])"
      ]
     },
     "execution_count": 65,
     "metadata": {},
     "output_type": "execute_result"
    }
   ],
   "source": [
    "sgd_reg = SGDRegressor(penalty='l2')\n",
    "sgd_reg.fit(X,y.ravel())\n",
    "sgd_reg.predict([[1.5],[2.3]])"
   ]
  },
  {
   "cell_type": "markdown",
   "metadata": {},
   "source": [
    "> L2 is  Ridge Regression!"
   ]
  },
  {
   "cell_type": "markdown",
   "metadata": {},
   "source": [
    "### Lasso Regression\n",
    "\n",
    "*Least Absolute Shrinkage and Selection Operator Regression* , use the L1 norm of the weight. forces the coefficients to to zero, which shrinks the coefficients and makes the model more parsimonious(have fewer parameters).\n",
    "\n",
    "*Equation* |  J(θ) = MSE(θ) + α * SUM(i->n)abs(θ)"
   ]
  },
  {
   "cell_type": "code",
   "execution_count": 66,
   "metadata": {},
   "outputs": [
    {
     "data": {
      "text/plain": [
       "array([4.77621741, 5.42575041])"
      ]
     },
     "execution_count": 66,
     "metadata": {},
     "output_type": "execute_result"
    }
   ],
   "source": [
    "from sklearn.linear_model import Lasso\n",
    "\n",
    "Lasso_reg = Lasso(alpha=.1)\n",
    "Lasso_reg.fit(X,y)\n",
    "Lasso_reg.predict([[1.5],[2.3]])"
   ]
  },
  {
   "cell_type": "code",
   "execution_count": 67,
   "metadata": {},
   "outputs": [
    {
     "data": {
      "text/plain": [
       "array([4.79555822, 5.46564502])"
      ]
     },
     "execution_count": 67,
     "metadata": {},
     "output_type": "execute_result"
    }
   ],
   "source": [
    "sgd_reg = SGDRegressor(penalty='l1')\n",
    "sgd_reg.fit(X,y.ravel())\n",
    "sgd_reg.predict([[1.5],[2.3]])"
   ]
  },
  {
   "cell_type": "markdown",
   "metadata": {},
   "source": [
    "### Elastic Net\n",
    "\n",
    "is a middle ground between Ridge and Lasso Regression, can control with radio r. when r = 0 is a Ridge and when r = 1, it's qeuivalent to Lasso Regression."
   ]
  },
  {
   "cell_type": "code",
   "execution_count": 68,
   "metadata": {},
   "outputs": [
    {
     "data": {
      "text/plain": [
       "array([4.78114505, 5.43302606])"
      ]
     },
     "execution_count": 68,
     "metadata": {},
     "output_type": "execute_result"
    }
   ],
   "source": [
    "from sklearn.linear_model import ElasticNet\n",
    "\n",
    "elastic_net = ElasticNet(alpha=.1, l1_ratio=.5) # middle ratio\n",
    "elastic_net.fit(X,y)\n",
    "elastic_net.predict([[1.5],[2.3]])"
   ]
  },
  {
   "cell_type": "markdown",
   "metadata": {},
   "source": [
    "> what should we use? : by default it use *Ridge Regression* but if you suspect that only a few features are useful. you should prefer Lasso or Elastic Net. In gereal *Elastic Net* is preferred over *Lasso* because Lasso may behave erratically."
   ]
  },
  {
   "cell_type": "markdown",
   "metadata": {},
   "source": [
    "## Early Stopping\n",
    "\n",
    "Stop training as soon as the validation error reaches a minimum."
   ]
  },
  {
   "cell_type": "markdown",
   "metadata": {},
   "source": [
    ">fit_trainform vs transform \n",
    "* **transform** : you don't know \"your future data\" so you cannot use X_test data for fitting anything! "
   ]
  },
  {
   "cell_type": "markdown",
   "metadata": {},
   "source": [
    "> **warm-starting** approach enables us to start training from a better initial point"
   ]
  },
  {
   "cell_type": "code",
   "execution_count": 69,
   "metadata": {},
   "outputs": [
    {
     "name": "stdout",
     "output_type": "stream",
     "text": [
      "best epoch : 3\n",
      "min_MSE :  15.0134\n"
     ]
    }
   ],
   "source": [
    "from copy import deepcopy\n",
    "from sklearn.preprocessing import StandardScaler\n",
    "\n",
    "X_train, X_val, y_train, y_val = train_test_split(X,y,test_size=.2, random_state=42)\n",
    "\n",
    "poly_scaler = Pipeline([ \n",
    "    ('poly_features', PolynomialFeatures(degree=90, include_bias=False)),\n",
    "    ('std_scaler', StandardScaler())\n",
    "])\n",
    "\n",
    "X_train_poly_scaled = poly_scaler.fit_transform(X_train)\n",
    "X_val_poly_scaled = poly_scaler.transform(X_val)\n",
    "\n",
    "SGD_model = SGDRegressor(max_iter=1, tol=-np.infty, warm_start=True, penalty=None, learning_rate='constant', eta0=.0005)\n",
    "minimum_val_error = float('inf')\n",
    "best_epoch = None\n",
    "best_model = None\n",
    "MSE = []\n",
    "\n",
    "for epoch in range(1000):\n",
    "    SGD_model.fit(X_train_poly_scaled, y_train.ravel()) # just 1 epoch (from max_iter for each time)\n",
    "    y_val_predict = SGD_model.predict(X_val_poly_scaled)\n",
    "    val_error = mean_squared_error(y_val, y_val_predict)\n",
    "    MSE.append(val_error)\n",
    "\n",
    "    if val_error < minimum_val_error :\n",
    "        minimum_val_error = val_error\n",
    "        best_epoch = epoch\n",
    "        best_model = deepcopy(SGD_model)\n",
    "\n",
    "\n",
    "print('best epoch :',best_epoch)\n",
    "print('min_MSE : ',minimum_val_error.round(4))"
   ]
  },
  {
   "cell_type": "code",
   "execution_count": 70,
   "metadata": {},
   "outputs": [
    {
     "data": {
      "image/png": "[encoded data removed]",
      "text/plain": [
       "<Figure size 432x288 with 1 Axes>"
      ]
     },
     "metadata": {
      "needs_background": "light"
     },
     "output_type": "display_data"
    }
   ],
   "source": [
    "plt.plot(list(range(1000)),MSE)\n",
    "plt.scatter(best_epoch,minimum_val_error,s=40,c='r')\n",
    "plt.axis([-1,20,8,30])\n",
    "plt.xlabel('epoch')\n",
    "plt.ylabel('MSE')\n",
    "plt.show()"
   ]
  },
  {
   "cell_type": "markdown",
   "metadata": {},
   "source": [
    "## Logistic Regression\n",
    "\n",
    "use to estimate probabillity that instance belongs to a particular class (e.g., what is the probabillity that this email is sapm?)\n",
    "\n",
    "*Estimate Probabilities*: instead of outputting the result durecly like Linear does, it outputs th *logistic*(sigmoid function) of the result(return number between 0 and 1).\n",
    "\n",
    "**Equation** | 1/(1+exp(-x)) "
   ]
  },
  {
   "cell_type": "code",
   "execution_count": 71,
   "metadata": {},
   "outputs": [],
   "source": [
    "def sigmoid(x):\n",
    "    return 1/(1 + np.exp(-x))"
   ]
  },
  {
   "cell_type": "code",
   "execution_count": 72,
   "metadata": {},
   "outputs": [
    {
     "data": {
      "image/png": "[encoded data removed]",
      "text/plain": [
       "<Figure size 432x288 with 1 Axes>"
      ]
     },
     "metadata": {
      "needs_background": "light"
     },
     "output_type": "display_data"
    }
   ],
   "source": [
    "plt.plot(list(range(40)),list(range(-20,20)));"
   ]
  },
  {
   "cell_type": "code",
   "execution_count": 73,
   "metadata": {},
   "outputs": [
    {
     "data": {
      "image/png": "[encoded data removed]",
      "text/plain": [
       "<Figure size 432x288 with 1 Axes>"
      ]
     },
     "metadata": {
      "needs_background": "light"
     },
     "output_type": "display_data"
    }
   ],
   "source": [
    "plt.plot(list(range(40)),sigmoid(np.arange(-20,20)));"
   ]
  },
  {
   "cell_type": "markdown",
   "metadata": {},
   "source": [
    "## Decistion Boundaries"
   ]
  },
  {
   "cell_type": "code",
   "execution_count": 74,
   "metadata": {},
   "outputs": [
    {
     "data": {
      "text/plain": [
       "dict_keys(['data', 'target', 'frame', 'target_names', 'DESCR', 'feature_names', 'filename', 'data_module'])"
      ]
     },
     "execution_count": 74,
     "metadata": {},
     "output_type": "execute_result"
    }
   ],
   "source": [
    "from sklearn import datasets\n",
    "\n",
    "IRIS = datasets.load_iris()\n",
    "IRIS.keys()"
   ]
  },
  {
   "cell_type": "code",
   "execution_count": 75,
   "metadata": {},
   "outputs": [
    {
     "data": {
      "text/plain": [
       "(array([[0.2],\n",
       "        [0.2],\n",
       "        [0.2],\n",
       "        [0.2],\n",
       "        [0.2],\n",
       "        [0.4],\n",
       "        [0.3],\n",
       "        [0.2],\n",
       "        [0.2],\n",
       "        [0.1]]),\n",
       " array([0, 0, 0, 0, 0, 0, 0, 0, 0, 0]))"
      ]
     },
     "execution_count": 75,
     "metadata": {},
     "output_type": "execute_result"
    }
   ],
   "source": [
    "X = IRIS['data'][:,3] # petal width\n",
    "y = (IRIS['target'] == 2)*1 # 1 if Iris vitginica else 0\n",
    "X = X.reshape(-1,1) # x expect 2D array\n",
    "\n",
    "X[:10], y[:10]"
   ]
  },
  {
   "cell_type": "code",
   "execution_count": 76,
   "metadata": {},
   "outputs": [
    {
     "data": {
      "text/plain": [
       "LogisticRegression()"
      ]
     },
     "execution_count": 76,
     "metadata": {},
     "output_type": "execute_result"
    }
   ],
   "source": [
    "from sklearn.linear_model import LogisticRegression\n",
    "\n",
    "Logis_model = LogisticRegression()\n",
    "Logis_model.fit(X,y)"
   ]
  },
  {
   "cell_type": "code",
   "execution_count": 77,
   "metadata": {},
   "outputs": [
    {
     "data": {
      "text/plain": [
       "array([[0.00337683, 0.99662317],\n",
       "       [0.00333332, 0.99666668],\n",
       "       [0.00329037, 0.99670963],\n",
       "       [0.00324797, 0.99675203],\n",
       "       [0.00320611, 0.99679389],\n",
       "       [0.0031648 , 0.9968352 ],\n",
       "       [0.00312401, 0.99687599],\n",
       "       [0.00308375, 0.99691625],\n",
       "       [0.003044  , 0.996956  ],\n",
       "       [0.00300477, 0.99699523]])"
      ]
     },
     "execution_count": 77,
     "metadata": {},
     "output_type": "execute_result"
    }
   ],
   "source": [
    "X_new = np.linspace(0,3,1000).reshape(-1,1)\n",
    "y_proba = Logis_model.predict_proba(X_new) # predict probably\n",
    "y_proba[-10:]"
   ]
  },
  {
   "cell_type": "code",
   "execution_count": 78,
   "metadata": {},
   "outputs": [
    {
     "data": {
      "image/png": "[encoded data removed]",
      "text/plain": [
       "<Figure size 432x288 with 1 Axes>"
      ]
     },
     "metadata": {
      "needs_background": "light"
     },
     "output_type": "display_data"
    }
   ],
   "source": [
    "plt.plot(X_new, y_proba[:,1], 'b-', label='Iris virginica')\n",
    "plt.plot(X_new, y_proba[:,0], 'r--', label='Not')\n",
    "plt.xlabel('Petal width (cm)')\n",
    "plt.ylabel('Probability')\n",
    "plt.legend()\n",
    "plt.show()"
   ]
  },
  {
   "cell_type": "markdown",
   "metadata": {},
   "source": [
    "> The petal width of *Iris virginica* Decision boundary range from 1.6 cm to 3.0 cm"
   ]
  },
  {
   "cell_type": "code",
   "execution_count": 79,
   "metadata": {},
   "outputs": [
    {
     "data": {
      "text/plain": [
       "array([0, 0, 0, 1, 1])"
      ]
     },
     "execution_count": 79,
     "metadata": {},
     "output_type": "execute_result"
    }
   ],
   "source": [
    "Logis_model.predict([[1.4],[1.5],[1.6],[1.7],[1.8]])"
   ]
  },
  {
   "cell_type": "markdown",
   "metadata": {},
   "source": [
    "## Softmax Regression \n",
    "\n",
    "also known as softargmax: or normalized exponential function,:is a generalization of the logistic function to multiple dimensions. \n",
    "\n",
    "using to predict with multiclassification "
   ]
  },
  {
   "cell_type": "code",
   "execution_count": 80,
   "metadata": {},
   "outputs": [],
   "source": [
    "def softmax(x):\n",
    "    return np.exp(x) / np.sum(np.exp(x), axis=0)"
   ]
  },
  {
   "cell_type": "code",
   "execution_count": 81,
   "metadata": {},
   "outputs": [
    {
     "data": {
      "text/plain": [
       "LogisticRegression(C=10, multi_class='multinomial')"
      ]
     },
     "execution_count": 81,
     "metadata": {},
     "output_type": "execute_result"
    }
   ],
   "source": [
    "X = IRIS['data'][:,2:4] # petal length, petal width\n",
    "y = IRIS['target']\n",
    "\n",
    "# lbfgs is support softmax \n",
    "Softmax_model = LogisticRegression(multi_class='multinomial', solver='lbfgs',C=10)\n",
    "Softmax_model.fit(X,y)"
   ]
  },
  {
   "cell_type": "code",
   "execution_count": 82,
   "metadata": {},
   "outputs": [
    {
     "data": {
      "text/plain": [
       "array([[6.38014896e-07, 5.74929995e-02, 9.42506362e-01]])"
      ]
     },
     "execution_count": 82,
     "metadata": {},
     "output_type": "execute_result"
    }
   ],
   "source": [
    "Softmax_model.predict_proba([[5,2]])"
   ]
  },
  {
   "cell_type": "markdown",
   "metadata": {},
   "source": [
    "> 94 % is class 2"
   ]
  },
  {
   "cell_type": "code",
   "execution_count": 83,
   "metadata": {},
   "outputs": [
    {
     "data": {
      "image/png": "[encoded data removed]",
      "text/plain": [
       "<Figure size 720x288 with 1 Axes>"
      ]
     },
     "metadata": {
      "needs_background": "light"
     },
     "output_type": "display_data"
    }
   ],
   "source": [
    "plt.figure(figsize=(10, 4))\n",
    "plt.plot(X[y==2, 0], X[y==2, 1], \"g^\", label=\"Iris virginica\")\n",
    "plt.plot(X[y==1, 0], X[y==1, 1], \"bs\", label=\"Iris versicolor\")\n",
    "plt.plot(X[y==0, 0], X[y==0, 1], \"yo\", label=\"Iris setosa\")\n",
    "plt.xlabel('petal width',fontsize=14)\n",
    "plt.ylabel('petal length',fontsize=14)\n",
    "plt.legend(loc=\"center left\", fontsize=14)\n",
    "plt.axis([0.5, 7, 0, 3])\n",
    "plt.show()"
   ]
  },
  {
   "cell_type": "code",
   "execution_count": null,
   "metadata": {},
   "outputs": [
    {
     "data": {
      "image/png": "[encoded data removed]",
      "text/plain": [
       "<Figure size 720x288 with 1 Axes>"
      ]
     },
     "metadata": {
      "needs_background": "light"
     },
     "output_type": "display_data"
    }
   ],
   "source": [
    "x0, x1 = np.meshgrid(\n",
    "        np.linspace(0, 8, 500).reshape(-1, 1),\n",
    "        np.linspace(0, 3.5, 200).reshape(-1, 1),\n",
    "    )\n",
    "X_new = np.c_[x0.ravel(), x1.ravel()]\n",
    "\n",
    "\n",
    "y_proba = Softmax_model.predict_proba(X_new)\n",
    "y_predict = Softmax_model.predict(X_new)\n",
    "\n",
    "zz1 = y_proba[:, 1].reshape(x0.shape)\n",
    "zz = y_predict.reshape(x0.shape)\n",
    "\n",
    "plt.figure(figsize=(10, 4))\n",
    "plt.plot(X[y==2, 0], X[y==2, 1], \"g^\", label=\"Iris virginica\")\n",
    "plt.plot(X[y==1, 0], X[y==1, 1], \"bs\", label=\"Iris versicolor\")\n",
    "plt.plot(X[y==0, 0], X[y==0, 1], \"yo\", label=\"Iris setosa\")\n",
    "\n",
    "from matplotlib.colors import ListedColormap\n",
    "custom_cmap = ListedColormap(['#fafab0','#9898ff','#a0faa0'])\n",
    "\n",
    "plt.contourf(x0, x1, zz, cmap=custom_cmap)\n",
    "contour = plt.contour(x0, x1, zz1, cmap=plt.cm.brg)\n",
    "plt.clabel(contour, inline=2, fontsize=12)\n",
    "plt.xlabel(\"Petal length\", fontsize=14)\n",
    "plt.ylabel(\"Petal width\", fontsize=14)\n",
    "plt.legend(loc=\"center left\", fontsize=14)\n",
    "plt.axis([0, 7, 0, 3.5])\n",
    "plt.show()"
   ]
  }
 ],
 "metadata": {
  "interpreter": {
   "hash": "63e79917a05e390872358bfb73c58bc903ada01d2d04077091749088207d82cf"
  },
  "kernelspec": {
   "display_name": "Python 3.10.0 64-bit",
   "language": "python",
   "name": "python3"
  },
  "language_info": {
   "codemirror_mode": {
    "name": "ipython",
    "version": 3
   },
   "file_extension": ".py",
   "mimetype": "text/x-python",
   "name": "python",
   "nbconvert_exporter": "python",
   "pygments_lexer": "ipython3",
   "version": "3.10.0"
  },
  "orig_nbformat": 4
 },
 "nbformat": 4,
 "nbformat_minor": 2
}
